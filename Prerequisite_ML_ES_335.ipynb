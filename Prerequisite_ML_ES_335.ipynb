{
 "cells": [
  {
   "cell_type": "markdown",
   "id": "1df4a430-dfac-44ef-bb4a-021d505ef7a8",
   "metadata": {},
   "source": [
    "# Q1,2"
   ]
  },
  {
   "cell_type": "code",
   "execution_count": 1,
   "id": "ab8b7e1a-5407-4023-9cc5-5407db8a4089",
   "metadata": {},
   "outputs": [],
   "source": [
    "import numpy as np\n",
    "import pandas as pd\n",
    "import matplotlib.pyplot as plt"
   ]
  },
  {
   "cell_type": "code",
   "execution_count": 178,
   "id": "0f558d77-6561-47df-97b8-664eef525031",
   "metadata": {},
   "outputs": [
    {
     "data": {
      "text/plain": [
       "[[0, 1, 2, 3, 4, 5, 6, 7, 8, 9],\n",
       " [0, 1, 2, 3, 4, 5, 6, 7, 8, 9],\n",
       " [0, 1, 2, 3, 4, 5, 6, 7, 8, 9],\n",
       " [0, 1, 2, 3, 4, 5, 6, 7, 8, 9],\n",
       " [0, 1, 2, 3, 4, 5, 6, 7, 8, 9]]"
      ]
     },
     "execution_count": 178,
     "metadata": {},
     "output_type": "execute_result"
    }
   ],
   "source": [
    "matrix_1 = [[i for i in range(10)] for i in range(5)]\n",
    "matrix_2 = [[i for i in range(3)] for i in range(10)]\n",
    "# print(matrix_1)\n",
    "n= 5\n",
    "k=10\n",
    "matrix_1\n"
   ]
  },
  {
   "cell_type": "code",
   "execution_count": 176,
   "id": "01d3cd1f-79db-4500-b6dc-e54045a2e112",
   "metadata": {},
   "outputs": [
    {
     "data": {
      "text/plain": [
       "[[0, 1, 2],\n",
       " [0, 1, 2],\n",
       " [0, 1, 2],\n",
       " [0, 1, 2],\n",
       " [0, 1, 2],\n",
       " [0, 1, 2],\n",
       " [0, 1, 2],\n",
       " [0, 1, 2],\n",
       " [0, 1, 2],\n",
       " [0, 1, 2]]"
      ]
     },
     "execution_count": 176,
     "metadata": {},
     "output_type": "execute_result"
    }
   ],
   "source": [
    "# m=3\n",
    "matrix_2\n"
   ]
  },
  {
   "cell_type": "code",
   "execution_count": 4,
   "id": "470ececf-64ff-42a4-b664-17a2b08d305a",
   "metadata": {},
   "outputs": [
    {
     "data": {
      "text/plain": [
       "array([[0, 0, 0, 0, 0, 0, 0, 0, 0, 0],\n",
       "       [1, 1, 1, 1, 1, 1, 1, 1, 1, 1],\n",
       "       [2, 2, 2, 2, 2, 2, 2, 2, 2, 2]])"
      ]
     },
     "execution_count": 4,
     "metadata": {},
     "output_type": "execute_result"
    }
   ],
   "source": [
    "t_matrix_2 = np.array(matrix_2).T\n",
    "t_matrix_2"
   ]
  },
  {
   "cell_type": "code",
   "execution_count": 5,
   "id": "f4f8329f-7658-4c54-90b1-502a3d45075f",
   "metadata": {},
   "outputs": [
    {
     "name": "stdout",
     "output_type": "stream",
     "text": [
      "5 3 10\n"
     ]
    }
   ],
   "source": [
    "print(n,m,k)"
   ]
  },
  {
   "cell_type": "code",
   "execution_count": 6,
   "id": "748c52e6-9f38-4551-a889-b078115fd54a",
   "metadata": {},
   "outputs": [
    {
     "name": "stdout",
     "output_type": "stream",
     "text": [
      "65.3 µs ± 14.9 µs per loop (mean ± std. dev. of 7 runs, 10,000 loops each)\n",
      "resulting array is\n",
      "[[ 0. 45. 90.]\n",
      " [ 0. 45. 90.]\n",
      " [ 0. 45. 90.]\n",
      " [ 0. 45. 90.]\n",
      " [ 0. 45. 90.]]\n",
      "Total summations are : 150\n",
      "Total products are : 150\n"
     ]
    }
   ],
   "source": [
    "def my_fun(n,k,m,matrix_1,t_matrix_2):\n",
    "    sum_val = 0\n",
    "    product =0\n",
    "    result = np.zeros((n,m))\n",
    "    for i in range(n):\n",
    "        row = matrix_1[i]\n",
    "        for j in range(m):\n",
    "            col = t_matrix_2[j]\n",
    "            ans = 0\n",
    "            for l in range(k):\n",
    "                ans+=row[l]*col[l]\n",
    "                sum_val+=1\n",
    "                product+=1\n",
    "            result[i][j] = ans\n",
    "    return result,sum_val, product\n",
    "\n",
    "%timeit my_fun(n,k,m,matrix_1,t_matrix_2)\n",
    "result,sum_val,product = my_fun(n,k,m,matrix_1,t_matrix_2)\n",
    "print(\"resulting array is\")\n",
    "print(result)\n",
    "print(f\"Total summations are : {sum_val}\")\n",
    "print(f\"Total products are : {product}\")\n",
    "# result"
   ]
  },
  {
   "cell_type": "code",
   "execution_count": 7,
   "id": "c800648f-da21-49b5-a521-f3fdc24edb12",
   "metadata": {},
   "outputs": [],
   "source": [
    "# For each cell in final matrix of nXm we need to have k addition operations and multiplications , thus for mn cells it would be kmn operations(each)."
   ]
  },
  {
   "cell_type": "code",
   "execution_count": 8,
   "id": "a5eb9300-d9e2-4139-8ac2-66b555bf94ec",
   "metadata": {},
   "outputs": [
    {
     "name": "stdout",
     "output_type": "stream",
     "text": [
      "24.5 µs ± 1.87 µs per loop (mean ± std. dev. of 7 runs, 10,000 loops each)\n"
     ]
    }
   ],
   "source": [
    "%timeit np.matmul(matrix_1,matrix_2)\n",
    "numpy_answer = np.matmul(matrix_1,matrix_2)"
   ]
  },
  {
   "cell_type": "code",
   "execution_count": 9,
   "id": "9c40a7d2-74ef-4cf7-8bb4-d7aee421c43b",
   "metadata": {},
   "outputs": [
    {
     "data": {
      "image/png": "[encoded data removed]",
      "text/plain": [
       "<Figure size 640x480 with 1 Axes>"
      ]
     },
     "metadata": {},
     "output_type": "display_data"
    }
   ],
   "source": [
    "import matplotlib.pyplot as plt\n",
    "import numpy as np\n",
    "\n",
    "# Data\n",
    "time1 = 78.1  # in microseconds\n",
    "error1 = 1.07  # standard error\n",
    "\n",
    "time2 = 23.5  # example second measurement\n",
    "error2 = 4.39  # example second error\n",
    "\n",
    "# Create bar chart\n",
    "labels = ['Method 1', 'Method 2']\n",
    "times = [time1, time2]\n",
    "errors = [error1, error2]\n",
    "\n",
    "x = np.arange(len(labels))\n",
    "width = 0.35\n",
    "\n",
    "fig, ax = plt.subplots()\n",
    "rects = ax.bar(x, times, width, yerr=errors, capsize=5)\n",
    "\n",
    "# Customize the chart\n",
    "ax.set_ylabel('Time (µs)')\n",
    "ax.set_title('Comparison of Execution Times')\n",
    "ax.set_xticks(x)\n",
    "ax.set_xticklabels(labels)\n",
    "\n",
    "plt.tight_layout()\n",
    "plt.show()"
   ]
  },
  {
   "cell_type": "code",
   "execution_count": 10,
   "id": "9da728f9-80ad-47f2-a525-41d77290b08d",
   "metadata": {},
   "outputs": [],
   "source": [
    "#NumPy work on entire arrays at once, unlike element-by-element loops in Python. efficient parallel processing."
   ]
  },
  {
   "cell_type": "markdown",
   "id": "86a90f92-fdda-47b6-a719-699028c1eb97",
   "metadata": {},
   "source": [
    "# Q3"
   ]
  },
  {
   "cell_type": "code",
   "execution_count": 11,
   "id": "09734859-1809-49ff-96f5-e87b148cac87",
   "metadata": {},
   "outputs": [
    {
     "name": "stdout",
     "output_type": "stream",
     "text": [
      "[15, 2, 9, 0]\n"
     ]
    }
   ],
   "source": [
    "lst = [15,2,9,0]\n",
    "# lst = np.random.randint(0, 21, size=np.random.randint(2,15))\n",
    "def median(lst):\n",
    "    avg_val =[]\n",
    "    for i in range(len(lst)):\n",
    "        idx = i\n",
    "        less = 0\n",
    "        greater = 0\n",
    "        margin =0\n",
    "        for j in range(len(lst)):\n",
    "            if(j==i):\n",
    "                continue\n",
    "            else:\n",
    "                if(lst[j]>lst[i]):\n",
    "                    greater+=1\n",
    "                elif lst[j]<lst[i]:\n",
    "                    less+=1\n",
    "                else:\n",
    "                    margin +=1\n",
    "        if(len(lst)%2!=0 and abs(greater-less)-margin <=0):\n",
    "            return lst[i]\n",
    "        else:\n",
    "            if(abs(greater-less)-margin <=1 and lst[i] not in avg_val):\n",
    "                avg_val.append(lst[i])\n",
    "    # print(avg_val)\n",
    "    # print(type(avg_val))\n",
    "    \n",
    "    return (sum(avg_val))/len(avg_val)\n",
    "print(lst)"
   ]
  },
  {
   "cell_type": "code",
   "execution_count": 12,
   "id": "16cd7334-c709-4b54-b314-fb974e1aa465",
   "metadata": {},
   "outputs": [
    {
     "name": "stdout",
     "output_type": "stream",
     "text": [
      "Worst approach 5.5\n",
      "6.48 µs ± 322 ns per loop (mean ± std. dev. of 7 runs, 100,000 loops each)\n"
     ]
    }
   ],
   "source": [
    "print(f\"Worst approach {median(lst)}\")\n",
    "%timeit median(lst)"
   ]
  },
  {
   "cell_type": "code",
   "execution_count": 15,
   "id": "70830701-80fd-4122-9a2d-2c4740eea885",
   "metadata": {},
   "outputs": [
    {
     "name": "stdout",
     "output_type": "stream",
     "text": [
      "using numpy  5.5\n",
      "30.5 µs ± 1.07 µs per loop (mean ± std. dev. of 7 runs, 10,000 loops each)\n"
     ]
    }
   ],
   "source": [
    "print(\"using numpy \",np.median(lst))\n",
    "%timeit np.median(lst)"
   ]
  },
  {
   "cell_type": "code",
   "execution_count": 18,
   "id": "fae1edfa-e8cf-4ae7-acac-8420a63224e1",
   "metadata": {},
   "outputs": [
    {
     "name": "stdout",
     "output_type": "stream",
     "text": [
      "optimised approach  5.5\n",
      "456 ns ± 7.84 ns per loop (mean ± std. dev. of 7 runs, 1,000,000 loops each)\n"
     ]
    }
   ],
   "source": [
    "lst.sort()\n",
    "def median(lst):\n",
    "    if len(lst)%2==0:\n",
    "        return (lst[len(lst)//2]+lst[len(lst)//2-1])/2\n",
    "    else:\n",
    "        return lst[len(lst)//2]\n",
    "print(\"optimised approach \",median(lst))\n",
    "%timeit median(lst)"
   ]
  },
  {
   "cell_type": "markdown",
   "id": "1432f4a4-5923-4f0a-8395-ff6d3f686ef7",
   "metadata": {},
   "source": [
    "# Q4 , 5 6"
   ]
  },
  {
   "cell_type": "code",
   "execution_count": 53,
   "id": "93164c93-e237-4620-b69c-71ba7b89a2c2",
   "metadata": {},
   "outputs": [
    {
     "name": "stdout",
     "output_type": "stream",
     "text": [
      "Gradient wrt x for x=5 , y=1 :  10.282516\n",
      "Gradient wrt y for x=5 , y=1 :  22.12715\n",
      "123 µs ± 4.32 µs per loop (mean ± std. dev. of 7 runs, 10,000 loops each)\n"
     ]
    }
   ],
   "source": [
    "def exp(x,y):\n",
    "    return  ((x**2)*y) + ((y**3)*jnp.sin(x))\n",
    "def grad_x(f,x,y,h=1e-3):\n",
    "    return (f(x,y)-f(x-h,y))/h\n",
    "def grad_y(f,x,y,h=1e-3):\n",
    "    return (f(x,y)-f(x,y-h))/h\n",
    "print(\"Gradient wrt x for x=5 , y=1 : \",grad_x(exp,5,1))\n",
    "print(\"Gradient wrt y for x=5 , y=1 : \",grad_y(exp,5,1))\n",
    "%timeit grad_x(exp,5,1)"
   ]
  },
  {
   "cell_type": "code",
   "execution_count": 26,
   "id": "44125960-9d18-4b00-9370-1ec7e909c43d",
   "metadata": {},
   "outputs": [
    {
     "name": "stdout",
     "output_type": "stream",
     "text": [
      "Requirement already satisfied: jax in c:\\users\\lakshya\\anaconda3\\lib\\site-packages (0.4.30)\n",
      "Requirement already satisfied: jaxlib<=0.4.30,>=0.4.27 in c:\\users\\lakshya\\anaconda3\\lib\\site-packages (from jax) (0.4.30)\n",
      "Requirement already satisfied: ml-dtypes>=0.2.0 in c:\\users\\lakshya\\appdata\\roaming\\python\\python311\\site-packages (from jax) (0.4.0)\n",
      "Requirement already satisfied: numpy>=1.22 in c:\\users\\lakshya\\anaconda3\\lib\\site-packages (from jax) (1.24.3)\n",
      "Requirement already satisfied: opt-einsum in c:\\users\\lakshya\\appdata\\roaming\\python\\python311\\site-packages (from jax) (3.3.0)\n",
      "Requirement already satisfied: scipy>=1.9 in c:\\users\\lakshya\\appdata\\roaming\\python\\python311\\site-packages (from jax) (1.11.4)\n"
     ]
    }
   ],
   "source": [
    "!pip install jax"
   ]
  },
  {
   "cell_type": "code",
   "execution_count": 48,
   "id": "5c4603e2-6ff8-4c44-b3cf-079f081d5d28",
   "metadata": {},
   "outputs": [
    {
     "name": "stdout",
     "output_type": "stream",
     "text": [
      "using jax Gradient wrt x for x=5 , y=1 :  10.283662\n",
      "using jax Gradient wrt y for x=5 , y=1 :  22.123226\n",
      "7.4 ms ± 484 µs per loop (mean ± std. dev. of 7 runs, 100 loops each)\n"
     ]
    }
   ],
   "source": [
    "from jax import grad\n",
    "import jax.numpy as jnp\n",
    "grad_x_jax = grad(exp,argnums=0)\n",
    "grad_y_jax = grad(exp,argnums=1)\n",
    "print(\"using jax Gradient wrt x for x=5 , y=1 : \",grad_x_jax(5.0,1.0))\n",
    "print(\"using jax Gradient wrt y for x=5 , y=1 : \",grad_y_jax(5.0,1.0))\n",
    "%timeit grad_x_jax(5.0,1.0)"
   ]
  },
  {
   "cell_type": "code",
   "execution_count": 66,
   "id": "c3782a83-4d8f-4ce5-93b7-d8168f378dc1",
   "metadata": {},
   "outputs": [
    {
     "name": "stdout",
     "output_type": "stream",
     "text": [
      "Partial derivative with respect to x: 2*x*y + y**3*cos(x)\n",
      "Partial derivative with respect to y: x**2 + 3*y**2*sin(x)\n",
      "Using sympy gradient wrt x for (x=5, y=1): cos(5) + 10\n",
      "Using sympy gradient wrt y for (x=5, y=1): 3*sin(5) + 25\n",
      "145 µs ± 9.78 µs per loop (mean ± std. dev. of 7 runs, 10,000 loops each)\n"
     ]
    }
   ],
   "source": [
    "# !pip install sympy\n",
    "from sympy import symbols, diff,sin\n",
    "\n",
    "x = symbols('x')\n",
    "y = symbols('y')\n",
    "\n",
    "f = ((x**2)*y) + ((y**3)*sin(x))\n",
    "\n",
    "f_prime_x = diff(f, x)\n",
    "f_prime_y = diff(f, y)\n",
    "\n",
    "print(\"Partial derivative with respect to x:\", f_prime_x)\n",
    "print(\"Partial derivative with respect to y:\", f_prime_y)\n",
    "\n",
    "values = {x: 5, y: 1}\n",
    "\n",
    "# f_at_point = f.subs(values)\n",
    "# print(\"Using sympy at x =5 ,y=1:\", f_at_point)\n",
    "\n",
    "# Substitute the values into the partial derivatives\n",
    "f_prime_x_at_point = f_prime_x.subs(values)\n",
    "f_prime_y_at_point = f_prime_y.subs(values)\n",
    "print(\"Using sympy gradient wrt x for (x=5, y=1):\", f_prime_x_at_point)\n",
    "print(\"Using sympy gradient wrt y for (x=5, y=1):\", f_prime_y_at_point)\n",
    "%timeit  f_prime_y.subs(values)"
   ]
  },
  {
   "cell_type": "markdown",
   "id": "5d45c008-e6ad-42d1-93d6-4a82503c7b0d",
   "metadata": {},
   "source": [
    "# Q7,8"
   ]
  },
  {
   "cell_type": "code",
   "execution_count": 186,
   "id": "6efeff0c-8c50-4ac0-b725-a7bddf0c0c56",
   "metadata": {},
   "outputs": [
    {
     "name": "stdout",
     "output_type": "stream",
     "text": [
      "Year: 2023\n",
      "  Branch: Branch 1\n",
      "    Roll Number: 1, Name: N, Marks: {'maths': 80}\n",
      "  Branch: Branch 2\n",
      "    Roll Number: 2, Name: M, Marks: {'English': 78, 'Maths': 78}\n",
      "Year: 2053\n",
      "  Branch: Branch 1\n",
      "    Roll Number: 1, Name: N, Marks: {'maths': 80}\n",
      "    Roll Number: 5, Name: N, Marks: {'maths': 80}\n",
      "  Branch: Branch 19\n",
      "    Roll Number: 5, Name: N, Marks: {'maths': 80}\n"
     ]
    }
   ],
   "source": [
    "school = {}\n",
    "def add_student(year, branch, roll_number, name, marks):\n",
    "    if year in school:\n",
    "        if branch in school[year]:\n",
    "            student = {\n",
    "                'Roll Number': roll_number,\n",
    "                'Name': name,\n",
    "                'marks':marks\n",
    "            }\n",
    "            school[year][branch].append(student)\n",
    "        else:\n",
    "            school[year][f\"{branch}\"]=[{\n",
    "                'Roll Number': roll_number,\n",
    "                'Name': name,\n",
    "                'marks':marks\n",
    "            }]\n",
    "    else:\n",
    "        school[year] = {branch: [{'Roll Number': roll_number,\n",
    "            'Name': name,\n",
    "            'marks':marks}]}\n",
    "\n",
    "add_student('2023', 'Branch 1', 1, 'N',{\"maths\":80})\n",
    "add_student('2053', 'Branch 1', 1, 'N',{\"maths\":80})\n",
    "add_student('2053', 'Branch 1', 5, 'N',{\"maths\":80})\n",
    "add_student('2053', 'Branch 19', 5, 'N',{\"maths\":80})\n",
    "add_student('2023', 'Branch 2', 2, 'M', {\"English\":78,\"Maths\":78})\n",
    "\n",
    "print_school_data()\n",
    "\n"
   ]
  },
  {
   "cell_type": "markdown",
   "id": "8592af24-15ab-49d9-a11a-986b7648f77a",
   "metadata": {},
   "source": [
    "# Q9"
   ]
  },
  {
   "cell_type": "code",
   "execution_count": 101,
   "id": "c3026c80-53a4-4ad1-a202-f2e9012e3835",
   "metadata": {},
   "outputs": [
    {
     "data": {
      "text/plain": [
       "Text(0.5, 0.98, 'Graphs')"
      ]
     },
     "execution_count": 101,
     "metadata": {},
     "output_type": "execute_result"
    },
    {
     "data": {
      "image/png": "[encoded data removed]",
      "text/plain": [
       "<Figure size 800x1300 with 7 Axes>"
      ]
     },
     "metadata": {},
     "output_type": "display_data"
    }
   ],
   "source": [
    "x = np.arange(1,100,0.4)\n",
    "plt.figure(figsize=(8,13))\n",
    "plt.subplot(4,2,1)\n",
    "plt.plot(x,x)\n",
    "plt.title(\"y=x\")\n",
    "plt.subplot(4,2,2)\n",
    "plt.plot(x,x*x)\n",
    "plt.title(\"y=x^2\")\n",
    "plt.subplot(4,2,3)\n",
    "plt.title(\"y=x^3/100\")\n",
    "plt.plot(x,x*x*x/100)\n",
    "plt.subplot(4,2,4)\n",
    "plt.title(\"y=sin(x)\")\n",
    "plt.plot(x,np.sin(x))\n",
    "plt.subplot(4,2,5)\n",
    "plt.title(\"y=sin(x)/x\")\n",
    "plt.plot(x,np.sin(x)/x)\n",
    "plt.subplot(4,2,6)\n",
    "plt.title(\"y=log(x)\")\n",
    "plt.plot(np.log10(x))\n",
    "plt.subplot(4,2,7)\n",
    "plt.title(\"y=e^x\")\n",
    "plt.plot(x,np.exp(x))\n",
    "plt.suptitle(\"Graphs\")"
   ]
  },
  {
   "cell_type": "markdown",
   "id": "91f196c1-b8d4-4e17-bf7c-49bcef013261",
   "metadata": {},
   "source": [
    "# Q10"
   ]
  },
  {
   "cell_type": "code",
   "execution_count": 188,
   "id": "39acc6ff-edaf-4f1a-83f3-1063bf56bc4a",
   "metadata": {},
   "outputs": [
    {
     "data": {
      "text/html": [
       "<div>\n",
       "<style scoped>\n",
       "    .dataframe tbody tr th:only-of-type {\n",
       "        vertical-align: middle;\n",
       "    }\n",
       "\n",
       "    .dataframe tbody tr th {\n",
       "        vertical-align: top;\n",
       "    }\n",
       "\n",
       "    .dataframe thead th {\n",
       "        text-align: right;\n",
       "    }\n",
       "</style>\n",
       "<table border=\"1\" class=\"dataframe\">\n",
       "  <thead>\n",
       "    <tr style=\"text-align: right;\">\n",
       "      <th></th>\n",
       "      <th>a</th>\n",
       "      <th>b</th>\n",
       "      <th>c</th>\n",
       "      <th>d</th>\n",
       "      <th>e</th>\n",
       "    </tr>\n",
       "  </thead>\n",
       "  <tbody>\n",
       "    <tr>\n",
       "      <th>0</th>\n",
       "      <td>1.140162</td>\n",
       "      <td>1.470510</td>\n",
       "      <td>1.306615</td>\n",
       "      <td>1.162316</td>\n",
       "      <td>1.607281</td>\n",
       "    </tr>\n",
       "    <tr>\n",
       "      <th>1</th>\n",
       "      <td>1.192044</td>\n",
       "      <td>1.189347</td>\n",
       "      <td>1.100992</td>\n",
       "      <td>1.629023</td>\n",
       "      <td>1.366921</td>\n",
       "    </tr>\n",
       "    <tr>\n",
       "      <th>2</th>\n",
       "      <td>1.029903</td>\n",
       "      <td>1.153791</td>\n",
       "      <td>1.396303</td>\n",
       "      <td>1.865701</td>\n",
       "      <td>1.663551</td>\n",
       "    </tr>\n",
       "    <tr>\n",
       "      <th>3</th>\n",
       "      <td>1.666884</td>\n",
       "      <td>1.628226</td>\n",
       "      <td>1.771529</td>\n",
       "      <td>1.019421</td>\n",
       "      <td>1.986354</td>\n",
       "    </tr>\n",
       "    <tr>\n",
       "      <th>4</th>\n",
       "      <td>1.757636</td>\n",
       "      <td>1.494608</td>\n",
       "      <td>1.076208</td>\n",
       "      <td>1.215818</td>\n",
       "      <td>1.736141</td>\n",
       "    </tr>\n",
       "    <tr>\n",
       "      <th>5</th>\n",
       "      <td>1.216011</td>\n",
       "      <td>1.362326</td>\n",
       "      <td>1.531421</td>\n",
       "      <td>1.672015</td>\n",
       "      <td>1.504910</td>\n",
       "    </tr>\n",
       "    <tr>\n",
       "      <th>6</th>\n",
       "      <td>1.839365</td>\n",
       "      <td>1.641924</td>\n",
       "      <td>1.712625</td>\n",
       "      <td>1.868419</td>\n",
       "      <td>1.413554</td>\n",
       "    </tr>\n",
       "    <tr>\n",
       "      <th>7</th>\n",
       "      <td>1.967877</td>\n",
       "      <td>1.345989</td>\n",
       "      <td>1.232460</td>\n",
       "      <td>1.654789</td>\n",
       "      <td>1.255955</td>\n",
       "    </tr>\n",
       "    <tr>\n",
       "      <th>8</th>\n",
       "      <td>1.819647</td>\n",
       "      <td>1.284464</td>\n",
       "      <td>1.227894</td>\n",
       "      <td>1.080841</td>\n",
       "      <td>1.753721</td>\n",
       "    </tr>\n",
       "    <tr>\n",
       "      <th>9</th>\n",
       "      <td>1.024374</td>\n",
       "      <td>1.140686</td>\n",
       "      <td>1.922810</td>\n",
       "      <td>1.846123</td>\n",
       "      <td>1.067570</td>\n",
       "    </tr>\n",
       "    <tr>\n",
       "      <th>10</th>\n",
       "      <td>1.656298</td>\n",
       "      <td>1.394436</td>\n",
       "      <td>1.776089</td>\n",
       "      <td>1.872219</td>\n",
       "      <td>1.279030</td>\n",
       "    </tr>\n",
       "    <tr>\n",
       "      <th>11</th>\n",
       "      <td>1.166950</td>\n",
       "      <td>1.692519</td>\n",
       "      <td>1.847976</td>\n",
       "      <td>1.111443</td>\n",
       "      <td>1.483726</td>\n",
       "    </tr>\n",
       "    <tr>\n",
       "      <th>12</th>\n",
       "      <td>1.111658</td>\n",
       "      <td>1.436765</td>\n",
       "      <td>1.962806</td>\n",
       "      <td>1.487162</td>\n",
       "      <td>1.042371</td>\n",
       "    </tr>\n",
       "    <tr>\n",
       "      <th>13</th>\n",
       "      <td>1.079212</td>\n",
       "      <td>1.648770</td>\n",
       "      <td>1.795231</td>\n",
       "      <td>1.168824</td>\n",
       "      <td>1.127802</td>\n",
       "    </tr>\n",
       "    <tr>\n",
       "      <th>14</th>\n",
       "      <td>1.036351</td>\n",
       "      <td>1.927000</td>\n",
       "      <td>1.021351</td>\n",
       "      <td>1.274172</td>\n",
       "      <td>1.834296</td>\n",
       "    </tr>\n",
       "    <tr>\n",
       "      <th>15</th>\n",
       "      <td>1.311588</td>\n",
       "      <td>1.576829</td>\n",
       "      <td>1.858929</td>\n",
       "      <td>1.691000</td>\n",
       "      <td>1.863881</td>\n",
       "    </tr>\n",
       "    <tr>\n",
       "      <th>16</th>\n",
       "      <td>1.678230</td>\n",
       "      <td>1.785598</td>\n",
       "      <td>1.787360</td>\n",
       "      <td>1.707055</td>\n",
       "      <td>1.122169</td>\n",
       "    </tr>\n",
       "    <tr>\n",
       "      <th>17</th>\n",
       "      <td>1.453632</td>\n",
       "      <td>1.729455</td>\n",
       "      <td>1.177294</td>\n",
       "      <td>1.455164</td>\n",
       "      <td>1.684987</td>\n",
       "    </tr>\n",
       "    <tr>\n",
       "      <th>18</th>\n",
       "      <td>1.059541</td>\n",
       "      <td>1.927255</td>\n",
       "      <td>1.720389</td>\n",
       "      <td>1.994760</td>\n",
       "      <td>1.795459</td>\n",
       "    </tr>\n",
       "    <tr>\n",
       "      <th>19</th>\n",
       "      <td>1.038741</td>\n",
       "      <td>1.156916</td>\n",
       "      <td>1.213949</td>\n",
       "      <td>1.390014</td>\n",
       "      <td>1.796990</td>\n",
       "    </tr>\n",
       "  </tbody>\n",
       "</table>\n",
       "</div>"
      ],
      "text/plain": [
       "           a         b         c         d         e\n",
       "0   1.140162  1.470510  1.306615  1.162316  1.607281\n",
       "1   1.192044  1.189347  1.100992  1.629023  1.366921\n",
       "2   1.029903  1.153791  1.396303  1.865701  1.663551\n",
       "3   1.666884  1.628226  1.771529  1.019421  1.986354\n",
       "4   1.757636  1.494608  1.076208  1.215818  1.736141\n",
       "5   1.216011  1.362326  1.531421  1.672015  1.504910\n",
       "6   1.839365  1.641924  1.712625  1.868419  1.413554\n",
       "7   1.967877  1.345989  1.232460  1.654789  1.255955\n",
       "8   1.819647  1.284464  1.227894  1.080841  1.753721\n",
       "9   1.024374  1.140686  1.922810  1.846123  1.067570\n",
       "10  1.656298  1.394436  1.776089  1.872219  1.279030\n",
       "11  1.166950  1.692519  1.847976  1.111443  1.483726\n",
       "12  1.111658  1.436765  1.962806  1.487162  1.042371\n",
       "13  1.079212  1.648770  1.795231  1.168824  1.127802\n",
       "14  1.036351  1.927000  1.021351  1.274172  1.834296\n",
       "15  1.311588  1.576829  1.858929  1.691000  1.863881\n",
       "16  1.678230  1.785598  1.787360  1.707055  1.122169\n",
       "17  1.453632  1.729455  1.177294  1.455164  1.684987\n",
       "18  1.059541  1.927255  1.720389  1.994760  1.795459\n",
       "19  1.038741  1.156916  1.213949  1.390014  1.796990"
      ]
     },
     "execution_count": 188,
     "metadata": {},
     "output_type": "execute_result"
    }
   ],
   "source": [
    "mat =np.random.uniform(1,2,size=(20,5))\n",
    "col=['a','b','c','d','e']\n",
    "df = pd.DataFrame(mat,columns = col)\n",
    "df"
   ]
  },
  {
   "cell_type": "code",
   "execution_count": 189,
   "id": "dc90246a-c455-4a21-8385-4d3853f8a991",
   "metadata": {},
   "outputs": [
    {
     "name": "stdout",
     "output_type": "stream",
     "text": [
      "Column with max stdev is a\n"
     ]
    }
   ],
   "source": [
    "print(f\"Column with max stdev is {col[df.describe().loc['std'].argmax()]}\")"
   ]
  },
  {
   "cell_type": "code",
   "execution_count": 190,
   "id": "db7de030-278a-4a0c-a281-39c5650339f7",
   "metadata": {},
   "outputs": [
    {
     "data": {
      "text/plain": [
       "a    1.192044\n",
       "b    1.189347\n",
       "c    1.100992\n",
       "d    1.629023\n",
       "e    1.366921\n",
       "Name: 1, dtype: float64"
      ]
     },
     "execution_count": 190,
     "metadata": {},
     "output_type": "execute_result"
    }
   ],
   "source": [
    "df.iloc[np.mean(df,axis=1).argmin()]"
   ]
  },
  {
   "cell_type": "markdown",
   "id": "5ef158ce-d341-46ca-89bd-c520c7ba923d",
   "metadata": {},
   "source": [
    "# Q11"
   ]
  },
  {
   "cell_type": "code",
   "execution_count": 191,
   "id": "8809f2ce-cce1-4995-bdfc-56f8f7d74a2b",
   "metadata": {},
   "outputs": [
    {
     "data": {
      "text/html": [
       "<div>\n",
       "<style scoped>\n",
       "    .dataframe tbody tr th:only-of-type {\n",
       "        vertical-align: middle;\n",
       "    }\n",
       "\n",
       "    .dataframe tbody tr th {\n",
       "        vertical-align: top;\n",
       "    }\n",
       "\n",
       "    .dataframe thead th {\n",
       "        text-align: right;\n",
       "    }\n",
       "</style>\n",
       "<table border=\"1\" class=\"dataframe\">\n",
       "  <thead>\n",
       "    <tr style=\"text-align: right;\">\n",
       "      <th></th>\n",
       "      <th>a</th>\n",
       "      <th>b</th>\n",
       "      <th>c</th>\n",
       "      <th>d</th>\n",
       "      <th>e</th>\n",
       "      <th>f</th>\n",
       "      <th>g</th>\n",
       "    </tr>\n",
       "  </thead>\n",
       "  <tbody>\n",
       "    <tr>\n",
       "      <th>0</th>\n",
       "      <td>1.140162</td>\n",
       "      <td>1.470510</td>\n",
       "      <td>1.306615</td>\n",
       "      <td>1.162316</td>\n",
       "      <td>1.607281</td>\n",
       "      <td>6.686884</td>\n",
       "      <td>LT8</td>\n",
       "    </tr>\n",
       "    <tr>\n",
       "      <th>1</th>\n",
       "      <td>1.192044</td>\n",
       "      <td>1.189347</td>\n",
       "      <td>1.100992</td>\n",
       "      <td>1.629023</td>\n",
       "      <td>1.366921</td>\n",
       "      <td>6.478327</td>\n",
       "      <td>LT8</td>\n",
       "    </tr>\n",
       "    <tr>\n",
       "      <th>2</th>\n",
       "      <td>1.029903</td>\n",
       "      <td>1.153791</td>\n",
       "      <td>1.396303</td>\n",
       "      <td>1.865701</td>\n",
       "      <td>1.663551</td>\n",
       "      <td>7.109249</td>\n",
       "      <td>LT8</td>\n",
       "    </tr>\n",
       "    <tr>\n",
       "      <th>3</th>\n",
       "      <td>1.666884</td>\n",
       "      <td>1.628226</td>\n",
       "      <td>1.771529</td>\n",
       "      <td>1.019421</td>\n",
       "      <td>1.986354</td>\n",
       "      <td>8.072412</td>\n",
       "      <td>LT8</td>\n",
       "    </tr>\n",
       "    <tr>\n",
       "      <th>4</th>\n",
       "      <td>1.757636</td>\n",
       "      <td>1.494608</td>\n",
       "      <td>1.076208</td>\n",
       "      <td>1.215818</td>\n",
       "      <td>1.736141</td>\n",
       "      <td>7.280411</td>\n",
       "      <td>LT8</td>\n",
       "    </tr>\n",
       "    <tr>\n",
       "      <th>5</th>\n",
       "      <td>1.216011</td>\n",
       "      <td>1.362326</td>\n",
       "      <td>1.531421</td>\n",
       "      <td>1.672015</td>\n",
       "      <td>1.504910</td>\n",
       "      <td>7.286682</td>\n",
       "      <td>LT8</td>\n",
       "    </tr>\n",
       "    <tr>\n",
       "      <th>6</th>\n",
       "      <td>1.839365</td>\n",
       "      <td>1.641924</td>\n",
       "      <td>1.712625</td>\n",
       "      <td>1.868419</td>\n",
       "      <td>1.413554</td>\n",
       "      <td>8.475888</td>\n",
       "      <td>LT8</td>\n",
       "    </tr>\n",
       "    <tr>\n",
       "      <th>7</th>\n",
       "      <td>1.967877</td>\n",
       "      <td>1.345989</td>\n",
       "      <td>1.232460</td>\n",
       "      <td>1.654789</td>\n",
       "      <td>1.255955</td>\n",
       "      <td>7.457069</td>\n",
       "      <td>LT8</td>\n",
       "    </tr>\n",
       "    <tr>\n",
       "      <th>8</th>\n",
       "      <td>1.819647</td>\n",
       "      <td>1.284464</td>\n",
       "      <td>1.227894</td>\n",
       "      <td>1.080841</td>\n",
       "      <td>1.753721</td>\n",
       "      <td>7.166568</td>\n",
       "      <td>LT8</td>\n",
       "    </tr>\n",
       "    <tr>\n",
       "      <th>9</th>\n",
       "      <td>1.024374</td>\n",
       "      <td>1.140686</td>\n",
       "      <td>1.922810</td>\n",
       "      <td>1.846123</td>\n",
       "      <td>1.067570</td>\n",
       "      <td>7.001563</td>\n",
       "      <td>LT8</td>\n",
       "    </tr>\n",
       "    <tr>\n",
       "      <th>10</th>\n",
       "      <td>1.656298</td>\n",
       "      <td>1.394436</td>\n",
       "      <td>1.776089</td>\n",
       "      <td>1.872219</td>\n",
       "      <td>1.279030</td>\n",
       "      <td>7.978072</td>\n",
       "      <td>LT8</td>\n",
       "    </tr>\n",
       "    <tr>\n",
       "      <th>11</th>\n",
       "      <td>1.166950</td>\n",
       "      <td>1.692519</td>\n",
       "      <td>1.847976</td>\n",
       "      <td>1.111443</td>\n",
       "      <td>1.483726</td>\n",
       "      <td>7.302614</td>\n",
       "      <td>LT8</td>\n",
       "    </tr>\n",
       "    <tr>\n",
       "      <th>12</th>\n",
       "      <td>1.111658</td>\n",
       "      <td>1.436765</td>\n",
       "      <td>1.962806</td>\n",
       "      <td>1.487162</td>\n",
       "      <td>1.042371</td>\n",
       "      <td>7.040763</td>\n",
       "      <td>LT8</td>\n",
       "    </tr>\n",
       "    <tr>\n",
       "      <th>13</th>\n",
       "      <td>1.079212</td>\n",
       "      <td>1.648770</td>\n",
       "      <td>1.795231</td>\n",
       "      <td>1.168824</td>\n",
       "      <td>1.127802</td>\n",
       "      <td>6.819839</td>\n",
       "      <td>LT8</td>\n",
       "    </tr>\n",
       "    <tr>\n",
       "      <th>14</th>\n",
       "      <td>1.036351</td>\n",
       "      <td>1.927000</td>\n",
       "      <td>1.021351</td>\n",
       "      <td>1.274172</td>\n",
       "      <td>1.834296</td>\n",
       "      <td>7.093171</td>\n",
       "      <td>LT8</td>\n",
       "    </tr>\n",
       "    <tr>\n",
       "      <th>15</th>\n",
       "      <td>1.311588</td>\n",
       "      <td>1.576829</td>\n",
       "      <td>1.858929</td>\n",
       "      <td>1.691000</td>\n",
       "      <td>1.863881</td>\n",
       "      <td>8.302227</td>\n",
       "      <td>LT8</td>\n",
       "    </tr>\n",
       "    <tr>\n",
       "      <th>16</th>\n",
       "      <td>1.678230</td>\n",
       "      <td>1.785598</td>\n",
       "      <td>1.787360</td>\n",
       "      <td>1.707055</td>\n",
       "      <td>1.122169</td>\n",
       "      <td>8.080413</td>\n",
       "      <td>LT8</td>\n",
       "    </tr>\n",
       "    <tr>\n",
       "      <th>17</th>\n",
       "      <td>1.453632</td>\n",
       "      <td>1.729455</td>\n",
       "      <td>1.177294</td>\n",
       "      <td>1.455164</td>\n",
       "      <td>1.684987</td>\n",
       "      <td>7.500532</td>\n",
       "      <td>LT8</td>\n",
       "    </tr>\n",
       "    <tr>\n",
       "      <th>18</th>\n",
       "      <td>1.059541</td>\n",
       "      <td>1.927255</td>\n",
       "      <td>1.720389</td>\n",
       "      <td>1.994760</td>\n",
       "      <td>1.795459</td>\n",
       "      <td>8.497404</td>\n",
       "      <td>LT8</td>\n",
       "    </tr>\n",
       "    <tr>\n",
       "      <th>19</th>\n",
       "      <td>1.038741</td>\n",
       "      <td>1.156916</td>\n",
       "      <td>1.213949</td>\n",
       "      <td>1.390014</td>\n",
       "      <td>1.796990</td>\n",
       "      <td>6.596611</td>\n",
       "      <td>LT8</td>\n",
       "    </tr>\n",
       "  </tbody>\n",
       "</table>\n",
       "</div>"
      ],
      "text/plain": [
       "           a         b         c         d         e         f    g\n",
       "0   1.140162  1.470510  1.306615  1.162316  1.607281  6.686884  LT8\n",
       "1   1.192044  1.189347  1.100992  1.629023  1.366921  6.478327  LT8\n",
       "2   1.029903  1.153791  1.396303  1.865701  1.663551  7.109249  LT8\n",
       "3   1.666884  1.628226  1.771529  1.019421  1.986354  8.072412  LT8\n",
       "4   1.757636  1.494608  1.076208  1.215818  1.736141  7.280411  LT8\n",
       "5   1.216011  1.362326  1.531421  1.672015  1.504910  7.286682  LT8\n",
       "6   1.839365  1.641924  1.712625  1.868419  1.413554  8.475888  LT8\n",
       "7   1.967877  1.345989  1.232460  1.654789  1.255955  7.457069  LT8\n",
       "8   1.819647  1.284464  1.227894  1.080841  1.753721  7.166568  LT8\n",
       "9   1.024374  1.140686  1.922810  1.846123  1.067570  7.001563  LT8\n",
       "10  1.656298  1.394436  1.776089  1.872219  1.279030  7.978072  LT8\n",
       "11  1.166950  1.692519  1.847976  1.111443  1.483726  7.302614  LT8\n",
       "12  1.111658  1.436765  1.962806  1.487162  1.042371  7.040763  LT8\n",
       "13  1.079212  1.648770  1.795231  1.168824  1.127802  6.819839  LT8\n",
       "14  1.036351  1.927000  1.021351  1.274172  1.834296  7.093171  LT8\n",
       "15  1.311588  1.576829  1.858929  1.691000  1.863881  8.302227  LT8\n",
       "16  1.678230  1.785598  1.787360  1.707055  1.122169  8.080413  LT8\n",
       "17  1.453632  1.729455  1.177294  1.455164  1.684987  7.500532  LT8\n",
       "18  1.059541  1.927255  1.720389  1.994760  1.795459  8.497404  LT8\n",
       "19  1.038741  1.156916  1.213949  1.390014  1.796990  6.596611  LT8"
      ]
     },
     "execution_count": 191,
     "metadata": {},
     "output_type": "execute_result"
    }
   ],
   "source": [
    "df['f'] = np.sum(df,axis=1)\n",
    "df[\"g\"] = [\"LT8\"]*len(df)\n",
    "df"
   ]
  },
  {
   "cell_type": "code",
   "execution_count": 192,
   "id": "76986fa8-3b12-487d-802c-aeb87824091b",
   "metadata": {},
   "outputs": [
    {
     "data": {
      "text/html": [
       "<div>\n",
       "<style scoped>\n",
       "    .dataframe tbody tr th:only-of-type {\n",
       "        vertical-align: middle;\n",
       "    }\n",
       "\n",
       "    .dataframe tbody tr th {\n",
       "        vertical-align: top;\n",
       "    }\n",
       "\n",
       "    .dataframe thead th {\n",
       "        text-align: right;\n",
       "    }\n",
       "</style>\n",
       "<table border=\"1\" class=\"dataframe\">\n",
       "  <thead>\n",
       "    <tr style=\"text-align: right;\">\n",
       "      <th></th>\n",
       "      <th>a</th>\n",
       "      <th>b</th>\n",
       "      <th>c</th>\n",
       "      <th>d</th>\n",
       "      <th>e</th>\n",
       "      <th>f</th>\n",
       "      <th>g</th>\n",
       "    </tr>\n",
       "  </thead>\n",
       "  <tbody>\n",
       "    <tr>\n",
       "      <th>0</th>\n",
       "      <td>1.140162</td>\n",
       "      <td>1.470510</td>\n",
       "      <td>1.306615</td>\n",
       "      <td>1.162316</td>\n",
       "      <td>1.607281</td>\n",
       "      <td>6.686884</td>\n",
       "      <td>LT8</td>\n",
       "    </tr>\n",
       "    <tr>\n",
       "      <th>1</th>\n",
       "      <td>1.192044</td>\n",
       "      <td>1.189347</td>\n",
       "      <td>1.100992</td>\n",
       "      <td>1.629023</td>\n",
       "      <td>1.366921</td>\n",
       "      <td>6.478327</td>\n",
       "      <td>LT8</td>\n",
       "    </tr>\n",
       "    <tr>\n",
       "      <th>2</th>\n",
       "      <td>1.029903</td>\n",
       "      <td>1.153791</td>\n",
       "      <td>1.396303</td>\n",
       "      <td>1.865701</td>\n",
       "      <td>1.663551</td>\n",
       "      <td>7.109249</td>\n",
       "      <td>LT8</td>\n",
       "    </tr>\n",
       "    <tr>\n",
       "      <th>3</th>\n",
       "      <td>1.666884</td>\n",
       "      <td>1.628226</td>\n",
       "      <td>1.771529</td>\n",
       "      <td>1.019421</td>\n",
       "      <td>1.986354</td>\n",
       "      <td>8.072412</td>\n",
       "      <td>GT8</td>\n",
       "    </tr>\n",
       "    <tr>\n",
       "      <th>4</th>\n",
       "      <td>1.757636</td>\n",
       "      <td>1.494608</td>\n",
       "      <td>1.076208</td>\n",
       "      <td>1.215818</td>\n",
       "      <td>1.736141</td>\n",
       "      <td>7.280411</td>\n",
       "      <td>LT8</td>\n",
       "    </tr>\n",
       "    <tr>\n",
       "      <th>5</th>\n",
       "      <td>1.216011</td>\n",
       "      <td>1.362326</td>\n",
       "      <td>1.531421</td>\n",
       "      <td>1.672015</td>\n",
       "      <td>1.504910</td>\n",
       "      <td>7.286682</td>\n",
       "      <td>LT8</td>\n",
       "    </tr>\n",
       "    <tr>\n",
       "      <th>6</th>\n",
       "      <td>1.839365</td>\n",
       "      <td>1.641924</td>\n",
       "      <td>1.712625</td>\n",
       "      <td>1.868419</td>\n",
       "      <td>1.413554</td>\n",
       "      <td>8.475888</td>\n",
       "      <td>GT8</td>\n",
       "    </tr>\n",
       "    <tr>\n",
       "      <th>7</th>\n",
       "      <td>1.967877</td>\n",
       "      <td>1.345989</td>\n",
       "      <td>1.232460</td>\n",
       "      <td>1.654789</td>\n",
       "      <td>1.255955</td>\n",
       "      <td>7.457069</td>\n",
       "      <td>LT8</td>\n",
       "    </tr>\n",
       "    <tr>\n",
       "      <th>8</th>\n",
       "      <td>1.819647</td>\n",
       "      <td>1.284464</td>\n",
       "      <td>1.227894</td>\n",
       "      <td>1.080841</td>\n",
       "      <td>1.753721</td>\n",
       "      <td>7.166568</td>\n",
       "      <td>LT8</td>\n",
       "    </tr>\n",
       "    <tr>\n",
       "      <th>9</th>\n",
       "      <td>1.024374</td>\n",
       "      <td>1.140686</td>\n",
       "      <td>1.922810</td>\n",
       "      <td>1.846123</td>\n",
       "      <td>1.067570</td>\n",
       "      <td>7.001563</td>\n",
       "      <td>LT8</td>\n",
       "    </tr>\n",
       "    <tr>\n",
       "      <th>10</th>\n",
       "      <td>1.656298</td>\n",
       "      <td>1.394436</td>\n",
       "      <td>1.776089</td>\n",
       "      <td>1.872219</td>\n",
       "      <td>1.279030</td>\n",
       "      <td>7.978072</td>\n",
       "      <td>LT8</td>\n",
       "    </tr>\n",
       "    <tr>\n",
       "      <th>11</th>\n",
       "      <td>1.166950</td>\n",
       "      <td>1.692519</td>\n",
       "      <td>1.847976</td>\n",
       "      <td>1.111443</td>\n",
       "      <td>1.483726</td>\n",
       "      <td>7.302614</td>\n",
       "      <td>LT8</td>\n",
       "    </tr>\n",
       "    <tr>\n",
       "      <th>12</th>\n",
       "      <td>1.111658</td>\n",
       "      <td>1.436765</td>\n",
       "      <td>1.962806</td>\n",
       "      <td>1.487162</td>\n",
       "      <td>1.042371</td>\n",
       "      <td>7.040763</td>\n",
       "      <td>LT8</td>\n",
       "    </tr>\n",
       "    <tr>\n",
       "      <th>13</th>\n",
       "      <td>1.079212</td>\n",
       "      <td>1.648770</td>\n",
       "      <td>1.795231</td>\n",
       "      <td>1.168824</td>\n",
       "      <td>1.127802</td>\n",
       "      <td>6.819839</td>\n",
       "      <td>LT8</td>\n",
       "    </tr>\n",
       "    <tr>\n",
       "      <th>14</th>\n",
       "      <td>1.036351</td>\n",
       "      <td>1.927000</td>\n",
       "      <td>1.021351</td>\n",
       "      <td>1.274172</td>\n",
       "      <td>1.834296</td>\n",
       "      <td>7.093171</td>\n",
       "      <td>LT8</td>\n",
       "    </tr>\n",
       "    <tr>\n",
       "      <th>15</th>\n",
       "      <td>1.311588</td>\n",
       "      <td>1.576829</td>\n",
       "      <td>1.858929</td>\n",
       "      <td>1.691000</td>\n",
       "      <td>1.863881</td>\n",
       "      <td>8.302227</td>\n",
       "      <td>GT8</td>\n",
       "    </tr>\n",
       "    <tr>\n",
       "      <th>16</th>\n",
       "      <td>1.678230</td>\n",
       "      <td>1.785598</td>\n",
       "      <td>1.787360</td>\n",
       "      <td>1.707055</td>\n",
       "      <td>1.122169</td>\n",
       "      <td>8.080413</td>\n",
       "      <td>GT8</td>\n",
       "    </tr>\n",
       "    <tr>\n",
       "      <th>17</th>\n",
       "      <td>1.453632</td>\n",
       "      <td>1.729455</td>\n",
       "      <td>1.177294</td>\n",
       "      <td>1.455164</td>\n",
       "      <td>1.684987</td>\n",
       "      <td>7.500532</td>\n",
       "      <td>LT8</td>\n",
       "    </tr>\n",
       "    <tr>\n",
       "      <th>18</th>\n",
       "      <td>1.059541</td>\n",
       "      <td>1.927255</td>\n",
       "      <td>1.720389</td>\n",
       "      <td>1.994760</td>\n",
       "      <td>1.795459</td>\n",
       "      <td>8.497404</td>\n",
       "      <td>GT8</td>\n",
       "    </tr>\n",
       "    <tr>\n",
       "      <th>19</th>\n",
       "      <td>1.038741</td>\n",
       "      <td>1.156916</td>\n",
       "      <td>1.213949</td>\n",
       "      <td>1.390014</td>\n",
       "      <td>1.796990</td>\n",
       "      <td>6.596611</td>\n",
       "      <td>LT8</td>\n",
       "    </tr>\n",
       "  </tbody>\n",
       "</table>\n",
       "</div>"
      ],
      "text/plain": [
       "           a         b         c         d         e         f    g\n",
       "0   1.140162  1.470510  1.306615  1.162316  1.607281  6.686884  LT8\n",
       "1   1.192044  1.189347  1.100992  1.629023  1.366921  6.478327  LT8\n",
       "2   1.029903  1.153791  1.396303  1.865701  1.663551  7.109249  LT8\n",
       "3   1.666884  1.628226  1.771529  1.019421  1.986354  8.072412  GT8\n",
       "4   1.757636  1.494608  1.076208  1.215818  1.736141  7.280411  LT8\n",
       "5   1.216011  1.362326  1.531421  1.672015  1.504910  7.286682  LT8\n",
       "6   1.839365  1.641924  1.712625  1.868419  1.413554  8.475888  GT8\n",
       "7   1.967877  1.345989  1.232460  1.654789  1.255955  7.457069  LT8\n",
       "8   1.819647  1.284464  1.227894  1.080841  1.753721  7.166568  LT8\n",
       "9   1.024374  1.140686  1.922810  1.846123  1.067570  7.001563  LT8\n",
       "10  1.656298  1.394436  1.776089  1.872219  1.279030  7.978072  LT8\n",
       "11  1.166950  1.692519  1.847976  1.111443  1.483726  7.302614  LT8\n",
       "12  1.111658  1.436765  1.962806  1.487162  1.042371  7.040763  LT8\n",
       "13  1.079212  1.648770  1.795231  1.168824  1.127802  6.819839  LT8\n",
       "14  1.036351  1.927000  1.021351  1.274172  1.834296  7.093171  LT8\n",
       "15  1.311588  1.576829  1.858929  1.691000  1.863881  8.302227  GT8\n",
       "16  1.678230  1.785598  1.787360  1.707055  1.122169  8.080413  GT8\n",
       "17  1.453632  1.729455  1.177294  1.455164  1.684987  7.500532  LT8\n",
       "18  1.059541  1.927255  1.720389  1.994760  1.795459  8.497404  GT8\n",
       "19  1.038741  1.156916  1.213949  1.390014  1.796990  6.596611  LT8"
      ]
     },
     "execution_count": 192,
     "metadata": {},
     "output_type": "execute_result"
    }
   ],
   "source": [
    "df.loc[df[\"f\"]>8,\"g\"] = \"GT8\"\n",
    "df"
   ]
  },
  {
   "cell_type": "code",
   "execution_count": 193,
   "id": "63b32dfc-69c8-48ff-961b-aafc7e3aa5bc",
   "metadata": {},
   "outputs": [
    {
     "name": "stdout",
     "output_type": "stream",
     "text": [
      "stdev of column 'f' where 'g' is LT8 : 0.38435893336857263\n"
     ]
    }
   ],
   "source": [
    "print(\"stdev of column 'f' where 'g' is LT8 :\", (df[df[\"g\"]==\"LT8\"].describe().loc[\"std\"])['f'])"
   ]
  },
  {
   "cell_type": "code",
   "execution_count": 194,
   "id": "3fb237eb-6bde-4c8d-8fcb-fff166d7b79a",
   "metadata": {},
   "outputs": [
    {
     "name": "stdout",
     "output_type": "stream",
     "text": [
      "stdev of column 'f' where 'g' is GT8 : 0.20548570992684723\n"
     ]
    }
   ],
   "source": [
    "print(\"stdev of column 'f' where 'g' is GT8 :\", (df[df[\"g\"]==\"GT8\"].describe().loc[\"std\"])['f'])"
   ]
  },
  {
   "cell_type": "markdown",
   "id": "49cdac05-db84-4b69-90b1-4fc06d531d9a",
   "metadata": {},
   "source": [
    "# 12"
   ]
  },
  {
   "cell_type": "code",
   "execution_count": 195,
   "id": "ca7b3677-139d-4b34-a2c5-e5dd53159c44",
   "metadata": {},
   "outputs": [
    {
     "name": "stdout",
     "output_type": "stream",
     "text": [
      "lst1 : [10 10 10 10 10 10]\n",
      "lst2 : \n",
      " [[15 15 15 15 15 15]\n",
      " [15 15 15 15 15 15]\n",
      " [15 15 15 15 15 15]\n",
      " [15 15 15 15 15 15]\n",
      " [15 15 15 15 15 15]\n",
      " [15 15 15 15 15 15]\n",
      " [15 15 15 15 15 15]\n",
      " [15 15 15 15 15 15]]\n"
     ]
    },
    {
     "data": {
      "text/plain": [
       "array([[25, 25, 25, 25, 25, 25],\n",
       "       [25, 25, 25, 25, 25, 25],\n",
       "       [25, 25, 25, 25, 25, 25],\n",
       "       [25, 25, 25, 25, 25, 25],\n",
       "       [25, 25, 25, 25, 25, 25],\n",
       "       [25, 25, 25, 25, 25, 25],\n",
       "       [25, 25, 25, 25, 25, 25],\n",
       "       [25, 25, 25, 25, 25, 25]])"
      ]
     },
     "execution_count": 195,
     "metadata": {},
     "output_type": "execute_result"
    }
   ],
   "source": [
    "lst1 = np.array([10,10,10,10,10,10])\n",
    "lst2 = np.array([[15 for i in range(6)] for j in range(8)])\n",
    "print(\"lst1 :\",lst1)\n",
    "print(\"lst2 : \\n\",lst2)\n",
    "lst1+lst2"
   ]
  },
  {
   "cell_type": "markdown",
   "id": "aff9b2ba-1388-45b2-8dfc-7430fbcb6716",
   "metadata": {},
   "source": [
    "# Q13"
   ]
  },
  {
   "cell_type": "code",
   "execution_count": 196,
   "id": "c978e3f3-f3e5-473c-9631-e422ae1a3f2d",
   "metadata": {},
   "outputs": [
    {
     "data": {
      "text/plain": [
       "(4, 4)"
      ]
     },
     "execution_count": 196,
     "metadata": {},
     "output_type": "execute_result"
    }
   ],
   "source": [
    "def my_argmin(arr):\n",
    "    min = np.inf\n",
    "    min_index=-1\n",
    "    for i in range(len(arr)):\n",
    "        if(arr[i]<min):\n",
    "            min = arr[i]\n",
    "            min_index = i\n",
    "    return min_index\n",
    "arr = np.array([7,8,4,4,0,0,10])\n",
    "arr.argmin(),my_argmin(arr)"
   ]
  }
 ],
 "metadata": {
  "kernelspec": {
   "display_name": "Python 3 (ipykernel)",
   "language": "python",
   "name": "python3"
  },
  "language_info": {
   "codemirror_mode": {
    "name": "ipython",
    "version": 3
   },
   "file_extension": ".py",
   "mimetype": "text/x-python",
   "name": "python",
   "nbconvert_exporter": "python",
   "pygments_lexer": "ipython3",
   "version": "3.11.5"
  }
 },
 "nbformat": 4,
 "nbformat_minor": 5
}
